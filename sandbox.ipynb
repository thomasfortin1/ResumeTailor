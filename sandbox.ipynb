{
 "cells": [
  {
   "cell_type": "code",
   "execution_count": 29,
   "id": "initial_id",
   "metadata": {
    "collapsed": true,
    "ExecuteTime": {
     "end_time": "2024-06-27T01:41:32.002278Z",
     "start_time": "2024-06-27T01:41:31.955050Z"
    }
   },
   "outputs": [],
   "source": [
    "import docx"
   ]
  },
  {
   "cell_type": "code",
   "execution_count": 30,
   "outputs": [],
   "source": [
    "resume = docx.Document('Thomas_Fortin_Resume.docx')"
   ],
   "metadata": {
    "collapsed": false,
    "ExecuteTime": {
     "end_time": "2024-06-27T01:41:32.060949Z",
     "start_time": "2024-06-27T01:41:31.960116Z"
    }
   },
   "id": "88f80afdc54a209c"
  },
  {
   "cell_type": "code",
   "execution_count": 31,
   "outputs": [
    {
     "name": "stdout",
     "output_type": "stream",
     "text": [
      "THOMAS FORTIN\n",
      "705 477-8312 | thomasfortin@live.com | linkedin.com/in/thomas-fortin/\n",
      "\n",
      "TECHNICAL SKILLS SUMMARY\n",
      "Python: {PyTorch, Tensorflow, Pandas, Numpy, Scikit-Learn, SciPy} |5 years\n",
      "Machine Learning: NLP, Transformers, CNN, LSTM, {Classical Methods, Supervised Learning, Unsupervised Learning, Clustering} |4 years\n",
      "Other languages and technologies: Docker {C#, C++, Java, Linux, REST API, AWS, SQL, MATLAB}\n",
      "PROJECTS\n",
      "Compute Optimal Training for Biosignal Transformers\n",
      "MASc Thesis | May 2023 – Apr 2024\n",
      "Developed a scaling law to predict the optimal balance of training tokens vs model size for a Biosignal Transformer given a fixed compute budget resulting in better performance for smaller compute budgets.\n",
      "Implemented maximal update parameterization (MuP) for the Biosignal Transformer (BIOT) architecture to allow for hyperparameter transfer across various model sizes during testing using Python (PyTorch).\n",
      "Identified appropriate datasets, applied preprocessing, and designed an optimal storage solution to minimize memory usage and significantly reduce data loading time during training using Python (NumPy, Pandas) and Linux\n",
      "Automated Medical Imaging Report Filling with NLP\n",
      "Capstone Design Project | Sep 2021 – Apr 2022\n",
      "Designed a system which tags scans of medical imaging reports with pertinent labels such as patient name, body part, and imaging modality in order to relieve physician documentation burden.\n",
      "Developed a process to integrate data from multiple sources into useful training data for the project in order to increase training set size from 20 samples to 1000s of samples and avoid use of private health information using Python (Pandas, NumPy).\n",
      "Developed, trained, and tested a BERT model for a report classification task using Python (PyTorch), AWS SageMaker, and Linux.\n",
      "\n",
      "EXPERIENCE\n",
      "University of Waterloo + Smile Digital Health\n",
      "MASc Student + Industry Partner | May 2022 – May 2024\n",
      "Developed, trained, and tested classical ML models to improve the record linkage algorithms used by Smile Digital Health resulting in a prototype that will decrease overhead and increase accuracy for clients using Python (scikit-learn).\n",
      "Effectively communicated complex machine learning concepts, algorithms, and project progress to both internal teams and external clients, facilitating seamless understanding and collaboration between technical and non-technical stakeholders.\n",
      "University of Waterloo (Faculty of Engineering)\n",
      "Teaching Assistant (Circuits Lab, Systems Modelling) | Sep 2022 – Apr 2024\n",
      "Taught complex course concepts to engineering students with varying levels of expertise, honing the ability to support students in their academic growth both individually and in a group setting.\n",
      "NuraLogix\n",
      "Data Science Software Developer (Co-op) | May 2021 – Aug 2021\n",
      "Developed, trained, and tested CNNs to predict blood pressure readings from videos of users' faces using Python (PyTorch, scikit-learn).\n",
      "Developed and tested a new method for video pre-processing which resulted in a significant increase in regression accuracy using OpenCV.\n",
      "Altis Labs\n",
      "Data Scientist (Co-op) | Jan 2021 – Apr 2021\n",
      "Trained and tested CNNs to predict survival probability for lung cancer patients based on chest CT-scans using Python (PyTorch, Pandas) and AWS SageMaker.\n",
      "Created an internal tool for automating testing of new models resulting in a significant increase in efficiency for the team’s machine learning workflow.\n",
      "IntelliSports\n",
      "Machine Learning Developer (Co-op) | Apr 2020 – Sep 2020\n",
      "Developed, trained, and tested RNNs and CNNs for human activity recognition (HAR) using Python (TensorFlow, Keras, scikit-learn).\n",
      "Implemented and optimized solution on production servers using Python, REST API, and Linux.\n",
      "\n",
      "EDUCATION\n",
      "Master of Applied Science, Systems Design Engineering University of Waterloo / May 2024\n",
      "Bachelor of Applied Science, Biomedical Engineering University of Waterloo / Apr 2022\n",
      "AWARDS AND ACKNOWLEDGEMENTS\n",
      "Engineering Excellence Fellowship / 2022-2024\n",
      "Dean’s Entrance Award / 2022\n",
      "University of Waterloo President’s Scholarship of Distinction / 2017-2018\n",
      "Faculty of Engineering Entrance Scholarship / 2017-2018\n"
     ]
    }
   ],
   "source": [
    "for paragraph in resume.paragraphs:\n",
    "    print(paragraph.text)"
   ],
   "metadata": {
    "collapsed": false,
    "ExecuteTime": {
     "end_time": "2024-06-27T01:41:32.062823Z",
     "start_time": "2024-06-27T01:41:31.987876Z"
    }
   },
   "id": "3202cc0c6148d5b9"
  },
  {
   "cell_type": "code",
   "execution_count": 32,
   "outputs": [],
   "source": [
    "posting = \"\"\"\n",
    "Generate insights into customer behavior and derive modeling ideas for improving our content recommender system\n",
    "Work with data engineers to define what additional customer data we might want to collect and help make it available in a format suitable for modeling purposes\n",
    "Create meaningful machine-learning features that improve our content recommender’s performance measured through offline metrics and online  a/b tests\n",
    "Build machine learning models and deploy them as part of our recommender system\n",
    "\n",
    "Qualifications:\n",
    "\n",
    "Master’s degree or equivalent experience (2+ years)  in a relevant field or industry\n",
    "Solid understanding of machine learning fundamentals\n",
    "High comfort level in Python or other programming language\n",
    "Familiarity with an ML stack such as typical scientific Python libraries (pandas, numpy, sklearn, xgboost) or deep learning frameworks (we use Pytorch)\n",
    "Familiarity with data analysis through SQL or a big-data processing framework such as Spark\n",
    "Ability to collaborate with technical partners – you’ll be working closely with other teams to determine requirements for your work and to make design decisions that affect our stack \n",
    "The idea of writing  and deploying production code, and getting real-world feedback on your models excites you\n",
    "A desire to always be learning and contributing to a collaborative environment\n",
    "\"\"\".lower()"
   ],
   "metadata": {
    "collapsed": false,
    "ExecuteTime": {
     "end_time": "2024-06-27T01:41:32.064045Z",
     "start_time": "2024-06-27T01:41:32.033824Z"
    }
   },
   "id": "c307709809feafa"
  },
  {
   "cell_type": "code",
   "execution_count": 33,
   "outputs": [],
   "source": [
    "for paragraph in resume.paragraphs:\n",
    "    if '{' in paragraph.text:\n",
    "        items = paragraph.text[paragraph.text.index('{')+1:paragraph.text.index('}')]\n",
    "        items = items.split(', ')\n",
    "        items_to_keep = []\n",
    "        \n",
    "        for item in items:\n",
    "            # check if the word appears in the posting\n",
    "            if item.lower() in posting:\n",
    "                items_to_keep.append(item)\n",
    "        text = (\n",
    "                paragraph.text[:paragraph.text.index('{')] + ', '.join(items_to_keep) + paragraph.text[paragraph.text.index('}')+1:])\n",
    "        # update the text in the doc\n",
    "        paragraph.text = text"
   ],
   "metadata": {
    "collapsed": false,
    "ExecuteTime": {
     "end_time": "2024-06-27T01:41:32.148981Z",
     "start_time": "2024-06-27T01:41:32.036332Z"
    }
   },
   "id": "4cbba61c6c47ee16"
  },
  {
   "cell_type": "code",
   "execution_count": 34,
   "outputs": [],
   "source": [
    "# save the updated doc to a new file\n",
    "resume.save('Thomas_Fortin_Resume_updated.docx')"
   ],
   "metadata": {
    "collapsed": false,
    "ExecuteTime": {
     "end_time": "2024-06-27T01:41:32.168370Z",
     "start_time": "2024-06-27T01:41:32.061169Z"
    }
   },
   "id": "d3f3bf7946652d9e"
  }
 ],
 "metadata": {
  "kernelspec": {
   "display_name": "Python 3",
   "language": "python",
   "name": "python3"
  },
  "language_info": {
   "codemirror_mode": {
    "name": "ipython",
    "version": 2
   },
   "file_extension": ".py",
   "mimetype": "text/x-python",
   "name": "python",
   "nbconvert_exporter": "python",
   "pygments_lexer": "ipython2",
   "version": "2.7.6"
  }
 },
 "nbformat": 4,
 "nbformat_minor": 5
}
